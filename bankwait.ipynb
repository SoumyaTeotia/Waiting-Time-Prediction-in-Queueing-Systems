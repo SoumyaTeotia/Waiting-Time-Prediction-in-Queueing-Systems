{
  "nbformat": 4,
  "nbformat_minor": 0,
  "metadata": {
    "colab": {
      "provenance": [],
      "include_colab_link": true
    },
    "kernelspec": {
      "name": "python3",
      "display_name": "Python 3"
    },
    "language_info": {
      "name": "python"
    }
  },
  "cells": [
    {
      "cell_type": "markdown",
      "metadata": {
        "id": "view-in-github",
        "colab_type": "text"
      },
      "source": [
        "<a href=\"https://colab.research.google.com/github/SoumyaTeotia/Waiting-Time-Prediction-in-Queueing-Systems/blob/main/bankwait.ipynb\" target=\"_parent\"><img src=\"https://colab.research.google.com/assets/colab-badge.svg\" alt=\"Open In Colab\"/></a>"
      ]
    },
    {
      "cell_type": "code",
      "execution_count": null,
      "metadata": {
        "id": "se1bocwo6-Sb"
      },
      "outputs": [],
      "source": [
        "import pandas as pd\n",
        "import datetime as dt\n",
        "import numpy as np\n",
        "import matplotlib\n",
        "import os\n",
        "# To plot pretty figures\n",
        "%matplotlib inline\n",
        "import matplotlib as mpl\n",
        "import matplotlib.pyplot as plt\n",
        "from sklearn.model_selection import train_test_split\n",
        "from sklearn.metrics import mean_absolute_error\n",
        "from tensorflow.python import keras"
      ]
    },
    {
      "cell_type": "code",
      "source": [
        "def file_len(fname):\n",
        "  with open(fname) as f:\n",
        "    for i, l in enumerate(f):\n",
        "      pass\n",
        "  return i"
      ],
      "metadata": {
        "id": "osodUg8_7ITC"
      },
      "execution_count": null,
      "outputs": []
    },
    {
      "cell_type": "code",
      "source": [
        "arrivalTime = '8:10'\n",
        "arrivalTime = dt.datetime.strptime(arrivalTime, '%H:%M')\n",
        "print(arrivalTime)"
      ],
      "metadata": {
        "colab": {
          "base_uri": "https://localhost:8080/"
        },
        "id": "EnV6wcLuyWBU",
        "outputId": "28823134-8083-4f52-ec10-26c00a50ab70"
      },
      "execution_count": null,
      "outputs": [
        {
          "output_type": "stream",
          "name": "stdout",
          "text": [
            "1900-01-01 08:10:00\n"
          ]
        }
      ]
    },
    {
      "cell_type": "code",
      "source": [
        "def file_read(path, numberOfRows):\n",
        "    indexCounter = 0\n",
        "    with open(path,'r') as file:\n",
        "        nRows = numberOfRows\n",
        "        nColumns = 4\n",
        "        dataset = np.zeros(shape=(nRows, nColumns))\n",
        "        arrivalTimes = []\n",
        "        for line in file:\n",
        "            try:\n",
        "                dataInstance = line.split(',')\n",
        "                arrivalTime = dataInstance[1] #splits the line at the comma and takes the first bit\n",
        "                arrivalTime = dt.datetime.strptime(arrivalTime, '%H:%M')\n",
        "                arrivalHour = arrivalTime.hour\n",
        "                arrivalMinute = arrivalTime.minute\n",
        "                waitingMinutes = dataInstance[2]\n",
        "                serviceMinutes = dataInstance[3]\n",
        "\n",
        "                arrivalTimes.append(arrivalTime)\n",
        "                dataset[indexCounter] = [arrivalHour, arrivalMinute, waitingMinutes, serviceMinutes]\n",
        "                indexCounter = indexCounter + 1\n",
        "            except:\n",
        "                #print('index' + str(indexCounter) + 'error')\n",
        "                pass\n",
        "    return dataset, arrivalTimes\n"
      ],
      "metadata": {
        "id": "1rBOXfX57L6j"
      },
      "execution_count": null,
      "outputs": []
    },
    {
      "cell_type": "code",
      "source": [
        "rootFilePath = '/BankDataCsv/'\n",
        "filename = 'Bank1Week1Day1'\n",
        "fullPath = rootFilePath + filename + '.csv'\n",
        "tf, tat = file_read(fullPath, 879)\n",
        "print(tf)"
      ],
      "metadata": {
        "colab": {
          "base_uri": "https://localhost:8080/"
        },
        "id": "K8Fwx3VUp_9o",
        "outputId": "673c719e-b10c-48c8-af20-aa0d48d99dc7"
      },
      "execution_count": null,
      "outputs": [
        {
          "output_type": "stream",
          "name": "stdout",
          "text": [
            "[[ 8.  0. 11. 28.]\n",
            " [ 8.  0. 13. 25.]\n",
            " [ 8.  0. 14. 26.]\n",
            " ...\n",
            " [14. 59. 14. 27.]\n",
            " [14. 59. 13. 29.]\n",
            " [14. 59. 11. 28.]]\n"
          ]
        }
      ]
    },
    {
      "cell_type": "code",
      "source": [
        "filenames = []\n",
        "rootFilePath = '/BankDataCsv/'\n",
        "fullDataset = pd.DataFrame()\n",
        "for bankCounter in range(1):\n",
        "  for weekCounter in range(4):\n",
        "    for dayCounter in range(5):\n",
        "      filename = 'Bank' + str(bankCounter + 1) + 'Week' + str(weekCounter + 1) + 'Day' + str(dayCounter + 1)\n",
        "      fullPath = rootFilePath + filename + '.csv'\n",
        "      filenames.append(fullPath)\n",
        "\n",
        "      numberOfRows = file_len(fullPath) - 1\n",
        "      print ('Reading ' + filename + ' that contains ' + str(numberOfRows) + ' entries')\n",
        "      tempFeatures, tempArrivalTimes = file_read(rootFilePath + filename + '.csv',numberOfRows)\n",
        "      #tempFeatures, tempArrivalTimes = file_read(rootFilePath + 'Bank1Week1Day1' + '.csv',numberOfRows)\n",
        "      dfTempFeatures = pd.DataFrame(np.array(tempFeatures), columns=['hour', 'minutes', 'waitingTime', 'serviceTime'])\n",
        "      dfTempArrivalTimes = pd.DataFrame(np.array(tempArrivalTimes), columns=['arrivalTime'])\n",
        "      #print(dfTempFeatures)\n",
        "\n",
        "      timeLeavingTheQueue = []\n",
        "      for arrivalTimeCounter in range(numberOfRows):\n",
        "          timeLeavingTheQueue.append(dfTempArrivalTimes.at[arrivalTimeCounter, 'arrivalTime'] + pd.Timedelta(minutes = dfTempFeatures.at[arrivalTimeCounter, 'waitingTime']))\n",
        "      dftimeLeavingTheQueue = pd.DataFrame(np.array(timeLeavingTheQueue), columns=['timeLeavingTheQueue'])\n",
        "\n",
        "      waitingPeople = np.zeros(numberOfRows)\n",
        "      for i in range(numberOfRows):\n",
        "        for j in range(i):\n",
        "          if (dfTempArrivalTimes.at[i, 'arrivalTime'] < dftimeLeavingTheQueue.at[j, 'timeLeavingTheQueue']):\n",
        "              waitingPeople[i] += 1\n",
        "      dfWaitingPeople = pd.DataFrame(np.array(waitingPeople), columns=['waitingPeople'])\n",
        "      dayOfWeek = np.zeros(numberOfRows)\n",
        "      for i in range(numberOfRows):\n",
        "          dayOfWeek[i] = dayCounter\n",
        "      dfDayOfWeek = pd.DataFrame(np.array(dayOfWeek), columns=['dayOfWeek'])\n",
        "      dfWaitingPeople['waitingPeople'] = dfWaitingPeople['waitingPeople'].astype(int)\n",
        "      dfTempFeatures['hour'] = dfTempFeatures['hour'].astype(int)\n",
        "      dfTempFeatures['minutes'] = dfTempFeatures['minutes'].astype(int)\n",
        "      dfDayOfWeek['dayOfWeek'] = dfDayOfWeek['dayOfWeek'].astype(int)\n",
        "\n",
        "      tempDataset = pd.concat([dfTempFeatures, dfWaitingPeople, dfDayOfWeek], axis=1)\n",
        "\n",
        "      fullDataset = pd.concat([fullDataset, tempDataset], axis=0)\n",
        "\n",
        "fullDataset = fullDataset.reset_index(drop = True)\n",
        "print(fullDataset.shape[0])"
      ],
      "metadata": {
        "colab": {
          "base_uri": "https://localhost:8080/"
        },
        "id": "R8P5oYI67k1G",
        "outputId": "24a25b43-a2e8-41c5-ba57-4ffb91cc3300"
      },
      "execution_count": null,
      "outputs": [
        {
          "output_type": "stream",
          "name": "stdout",
          "text": [
            "Reading Bank1Week1Day1 that contains 879 entries\n",
            "Reading Bank1Week1Day2 that contains 719 entries\n",
            "Reading Bank1Week1Day3 that contains 1019 entries\n",
            "Reading Bank1Week1Day4 that contains 801 entries\n",
            "Reading Bank1Week1Day5 that contains 521 entries\n",
            "Reading Bank1Week2Day1 that contains 988 entries\n",
            "Reading Bank1Week2Day2 that contains 683 entries\n",
            "Reading Bank1Week2Day3 that contains 547 entries\n",
            "Reading Bank1Week2Day4 that contains 1020 entries\n",
            "Reading Bank1Week2Day5 that contains 788 entries\n",
            "Reading Bank1Week3Day1 that contains 998 entries\n",
            "Reading Bank1Week3Day2 that contains 989 entries\n",
            "Reading Bank1Week3Day3 that contains 1000 entries\n",
            "Reading Bank1Week3Day4 that contains 1050 entries\n",
            "Reading Bank1Week3Day5 that contains 981 entries\n",
            "Reading Bank1Week4Day1 that contains 856 entries\n",
            "Reading Bank1Week4Day2 that contains 980 entries\n",
            "Reading Bank1Week4Day3 that contains 1056 entries\n",
            "Reading Bank1Week4Day4 that contains 898 entries\n",
            "Reading Bank1Week4Day5 that contains 995 entries\n",
            "17768\n"
          ]
        }
      ]
    },
    {
      "cell_type": "code",
      "source": [
        "print(f'The dataset has {fullDataset.shape[0]} rows and {fullDataset.shape[1]} columns.')"
      ],
      "metadata": {
        "colab": {
          "base_uri": "https://localhost:8080/"
        },
        "id": "R1xu4ULPpxtb",
        "outputId": "ae2d9812-e63f-4de1-8fd1-822a633a08ad"
      },
      "execution_count": null,
      "outputs": [
        {
          "output_type": "stream",
          "name": "stdout",
          "text": [
            "The dataset has 17768 rows and 6 columns.\n"
          ]
        }
      ]
    },
    {
      "cell_type": "code",
      "source": [
        "fullDataset.head()"
      ],
      "metadata": {
        "colab": {
          "base_uri": "https://localhost:8080/",
          "height": 206
        },
        "id": "1z0Wk6ly6U9p",
        "outputId": "171be83f-3fb1-4748-9263-30dbc5a4fd39"
      },
      "execution_count": null,
      "outputs": [
        {
          "output_type": "execute_result",
          "data": {
            "text/plain": [
              "   hour  minutes  waitingTime  serviceTime  waitingPeople  dayOfWeek\n",
              "0     8        0         11.0         28.0              0          0\n",
              "1     8        0         13.0         25.0              1          0\n",
              "2     8        0         14.0         26.0              2          0\n",
              "3     8        0          9.0         26.0              3          0\n",
              "4     8        0         14.0         23.0              4          0"
            ],
            "text/html": [
              "\n",
              "  <div id=\"df-54183ac1-3d3b-47ec-9166-e54a5ccfebbf\">\n",
              "    <div class=\"colab-df-container\">\n",
              "      <div>\n",
              "<style scoped>\n",
              "    .dataframe tbody tr th:only-of-type {\n",
              "        vertical-align: middle;\n",
              "    }\n",
              "\n",
              "    .dataframe tbody tr th {\n",
              "        vertical-align: top;\n",
              "    }\n",
              "\n",
              "    .dataframe thead th {\n",
              "        text-align: right;\n",
              "    }\n",
              "</style>\n",
              "<table border=\"1\" class=\"dataframe\">\n",
              "  <thead>\n",
              "    <tr style=\"text-align: right;\">\n",
              "      <th></th>\n",
              "      <th>hour</th>\n",
              "      <th>minutes</th>\n",
              "      <th>waitingTime</th>\n",
              "      <th>serviceTime</th>\n",
              "      <th>waitingPeople</th>\n",
              "      <th>dayOfWeek</th>\n",
              "    </tr>\n",
              "  </thead>\n",
              "  <tbody>\n",
              "    <tr>\n",
              "      <th>0</th>\n",
              "      <td>8</td>\n",
              "      <td>0</td>\n",
              "      <td>11.0</td>\n",
              "      <td>28.0</td>\n",
              "      <td>0</td>\n",
              "      <td>0</td>\n",
              "    </tr>\n",
              "    <tr>\n",
              "      <th>1</th>\n",
              "      <td>8</td>\n",
              "      <td>0</td>\n",
              "      <td>13.0</td>\n",
              "      <td>25.0</td>\n",
              "      <td>1</td>\n",
              "      <td>0</td>\n",
              "    </tr>\n",
              "    <tr>\n",
              "      <th>2</th>\n",
              "      <td>8</td>\n",
              "      <td>0</td>\n",
              "      <td>14.0</td>\n",
              "      <td>26.0</td>\n",
              "      <td>2</td>\n",
              "      <td>0</td>\n",
              "    </tr>\n",
              "    <tr>\n",
              "      <th>3</th>\n",
              "      <td>8</td>\n",
              "      <td>0</td>\n",
              "      <td>9.0</td>\n",
              "      <td>26.0</td>\n",
              "      <td>3</td>\n",
              "      <td>0</td>\n",
              "    </tr>\n",
              "    <tr>\n",
              "      <th>4</th>\n",
              "      <td>8</td>\n",
              "      <td>0</td>\n",
              "      <td>14.0</td>\n",
              "      <td>23.0</td>\n",
              "      <td>4</td>\n",
              "      <td>0</td>\n",
              "    </tr>\n",
              "  </tbody>\n",
              "</table>\n",
              "</div>\n",
              "      <button class=\"colab-df-convert\" onclick=\"convertToInteractive('df-54183ac1-3d3b-47ec-9166-e54a5ccfebbf')\"\n",
              "              title=\"Convert this dataframe to an interactive table.\"\n",
              "              style=\"display:none;\">\n",
              "        \n",
              "  <svg xmlns=\"http://www.w3.org/2000/svg\" height=\"24px\"viewBox=\"0 0 24 24\"\n",
              "       width=\"24px\">\n",
              "    <path d=\"M0 0h24v24H0V0z\" fill=\"none\"/>\n",
              "    <path d=\"M18.56 5.44l.94 2.06.94-2.06 2.06-.94-2.06-.94-.94-2.06-.94 2.06-2.06.94zm-11 1L8.5 8.5l.94-2.06 2.06-.94-2.06-.94L8.5 2.5l-.94 2.06-2.06.94zm10 10l.94 2.06.94-2.06 2.06-.94-2.06-.94-.94-2.06-.94 2.06-2.06.94z\"/><path d=\"M17.41 7.96l-1.37-1.37c-.4-.4-.92-.59-1.43-.59-.52 0-1.04.2-1.43.59L10.3 9.45l-7.72 7.72c-.78.78-.78 2.05 0 2.83L4 21.41c.39.39.9.59 1.41.59.51 0 1.02-.2 1.41-.59l7.78-7.78 2.81-2.81c.8-.78.8-2.07 0-2.86zM5.41 20L4 18.59l7.72-7.72 1.47 1.35L5.41 20z\"/>\n",
              "  </svg>\n",
              "      </button>\n",
              "      \n",
              "  <style>\n",
              "    .colab-df-container {\n",
              "      display:flex;\n",
              "      flex-wrap:wrap;\n",
              "      gap: 12px;\n",
              "    }\n",
              "\n",
              "    .colab-df-convert {\n",
              "      background-color: #E8F0FE;\n",
              "      border: none;\n",
              "      border-radius: 50%;\n",
              "      cursor: pointer;\n",
              "      display: none;\n",
              "      fill: #1967D2;\n",
              "      height: 32px;\n",
              "      padding: 0 0 0 0;\n",
              "      width: 32px;\n",
              "    }\n",
              "\n",
              "    .colab-df-convert:hover {\n",
              "      background-color: #E2EBFA;\n",
              "      box-shadow: 0px 1px 2px rgba(60, 64, 67, 0.3), 0px 1px 3px 1px rgba(60, 64, 67, 0.15);\n",
              "      fill: #174EA6;\n",
              "    }\n",
              "\n",
              "    [theme=dark] .colab-df-convert {\n",
              "      background-color: #3B4455;\n",
              "      fill: #D2E3FC;\n",
              "    }\n",
              "\n",
              "    [theme=dark] .colab-df-convert:hover {\n",
              "      background-color: #434B5C;\n",
              "      box-shadow: 0px 1px 3px 1px rgba(0, 0, 0, 0.15);\n",
              "      filter: drop-shadow(0px 1px 2px rgba(0, 0, 0, 0.3));\n",
              "      fill: #FFFFFF;\n",
              "    }\n",
              "  </style>\n",
              "\n",
              "      <script>\n",
              "        const buttonEl =\n",
              "          document.querySelector('#df-54183ac1-3d3b-47ec-9166-e54a5ccfebbf button.colab-df-convert');\n",
              "        buttonEl.style.display =\n",
              "          google.colab.kernel.accessAllowed ? 'block' : 'none';\n",
              "\n",
              "        async function convertToInteractive(key) {\n",
              "          const element = document.querySelector('#df-54183ac1-3d3b-47ec-9166-e54a5ccfebbf');\n",
              "          const dataTable =\n",
              "            await google.colab.kernel.invokeFunction('convertToInteractive',\n",
              "                                                     [key], {});\n",
              "          if (!dataTable) return;\n",
              "\n",
              "          const docLinkHtml = 'Like what you see? Visit the ' +\n",
              "            '<a target=\"_blank\" href=https://colab.research.google.com/notebooks/data_table.ipynb>data table notebook</a>'\n",
              "            + ' to learn more about interactive tables.';\n",
              "          element.innerHTML = '';\n",
              "          dataTable['output_type'] = 'display_data';\n",
              "          await google.colab.output.renderOutput(dataTable, element);\n",
              "          const docLink = document.createElement('div');\n",
              "          docLink.innerHTML = docLinkHtml;\n",
              "          element.appendChild(docLink);\n",
              "        }\n",
              "      </script>\n",
              "    </div>\n",
              "  </div>\n",
              "  "
            ]
          },
          "metadata": {},
          "execution_count": 8
        }
      ]
    },
    {
      "cell_type": "code",
      "source": [
        "fullDataset.describe()"
      ],
      "metadata": {
        "colab": {
          "base_uri": "https://localhost:8080/",
          "height": 300
        },
        "id": "LW9jWaql6aQ0",
        "outputId": "79dae99e-1c4b-4305-fb0e-bdae793c7f80"
      },
      "execution_count": null,
      "outputs": [
        {
          "output_type": "execute_result",
          "data": {
            "text/plain": [
              "               hour       minutes   waitingTime   serviceTime  waitingPeople  \\\n",
              "count  17768.000000  17768.000000  17768.000000  17768.000000   17768.000000   \n",
              "mean      10.584815     28.111099     12.150777     14.695689      27.903534   \n",
              "std        2.077604     17.276135      6.433825      5.902357      18.112853   \n",
              "min        8.000000      0.000000      3.000000      4.000000       0.000000   \n",
              "25%        9.000000     13.000000      8.000000     10.000000      16.000000   \n",
              "50%       10.000000     27.000000     10.000000     14.000000      23.000000   \n",
              "75%       12.000000     43.000000     15.000000     19.000000      37.000000   \n",
              "max       14.000000     59.000000     28.000000     33.000000     163.000000   \n",
              "\n",
              "          dayOfWeek  \n",
              "count  17768.000000  \n",
              "mean       1.973323  \n",
              "std        1.406579  \n",
              "min        0.000000  \n",
              "25%        1.000000  \n",
              "50%        2.000000  \n",
              "75%        3.000000  \n",
              "max        4.000000  "
            ],
            "text/html": [
              "\n",
              "  <div id=\"df-51951842-47b6-4865-b1be-6658b1a872c7\">\n",
              "    <div class=\"colab-df-container\">\n",
              "      <div>\n",
              "<style scoped>\n",
              "    .dataframe tbody tr th:only-of-type {\n",
              "        vertical-align: middle;\n",
              "    }\n",
              "\n",
              "    .dataframe tbody tr th {\n",
              "        vertical-align: top;\n",
              "    }\n",
              "\n",
              "    .dataframe thead th {\n",
              "        text-align: right;\n",
              "    }\n",
              "</style>\n",
              "<table border=\"1\" class=\"dataframe\">\n",
              "  <thead>\n",
              "    <tr style=\"text-align: right;\">\n",
              "      <th></th>\n",
              "      <th>hour</th>\n",
              "      <th>minutes</th>\n",
              "      <th>waitingTime</th>\n",
              "      <th>serviceTime</th>\n",
              "      <th>waitingPeople</th>\n",
              "      <th>dayOfWeek</th>\n",
              "    </tr>\n",
              "  </thead>\n",
              "  <tbody>\n",
              "    <tr>\n",
              "      <th>count</th>\n",
              "      <td>17768.000000</td>\n",
              "      <td>17768.000000</td>\n",
              "      <td>17768.000000</td>\n",
              "      <td>17768.000000</td>\n",
              "      <td>17768.000000</td>\n",
              "      <td>17768.000000</td>\n",
              "    </tr>\n",
              "    <tr>\n",
              "      <th>mean</th>\n",
              "      <td>10.584815</td>\n",
              "      <td>28.111099</td>\n",
              "      <td>12.150777</td>\n",
              "      <td>14.695689</td>\n",
              "      <td>27.903534</td>\n",
              "      <td>1.973323</td>\n",
              "    </tr>\n",
              "    <tr>\n",
              "      <th>std</th>\n",
              "      <td>2.077604</td>\n",
              "      <td>17.276135</td>\n",
              "      <td>6.433825</td>\n",
              "      <td>5.902357</td>\n",
              "      <td>18.112853</td>\n",
              "      <td>1.406579</td>\n",
              "    </tr>\n",
              "    <tr>\n",
              "      <th>min</th>\n",
              "      <td>8.000000</td>\n",
              "      <td>0.000000</td>\n",
              "      <td>3.000000</td>\n",
              "      <td>4.000000</td>\n",
              "      <td>0.000000</td>\n",
              "      <td>0.000000</td>\n",
              "    </tr>\n",
              "    <tr>\n",
              "      <th>25%</th>\n",
              "      <td>9.000000</td>\n",
              "      <td>13.000000</td>\n",
              "      <td>8.000000</td>\n",
              "      <td>10.000000</td>\n",
              "      <td>16.000000</td>\n",
              "      <td>1.000000</td>\n",
              "    </tr>\n",
              "    <tr>\n",
              "      <th>50%</th>\n",
              "      <td>10.000000</td>\n",
              "      <td>27.000000</td>\n",
              "      <td>10.000000</td>\n",
              "      <td>14.000000</td>\n",
              "      <td>23.000000</td>\n",
              "      <td>2.000000</td>\n",
              "    </tr>\n",
              "    <tr>\n",
              "      <th>75%</th>\n",
              "      <td>12.000000</td>\n",
              "      <td>43.000000</td>\n",
              "      <td>15.000000</td>\n",
              "      <td>19.000000</td>\n",
              "      <td>37.000000</td>\n",
              "      <td>3.000000</td>\n",
              "    </tr>\n",
              "    <tr>\n",
              "      <th>max</th>\n",
              "      <td>14.000000</td>\n",
              "      <td>59.000000</td>\n",
              "      <td>28.000000</td>\n",
              "      <td>33.000000</td>\n",
              "      <td>163.000000</td>\n",
              "      <td>4.000000</td>\n",
              "    </tr>\n",
              "  </tbody>\n",
              "</table>\n",
              "</div>\n",
              "      <button class=\"colab-df-convert\" onclick=\"convertToInteractive('df-51951842-47b6-4865-b1be-6658b1a872c7')\"\n",
              "              title=\"Convert this dataframe to an interactive table.\"\n",
              "              style=\"display:none;\">\n",
              "        \n",
              "  <svg xmlns=\"http://www.w3.org/2000/svg\" height=\"24px\"viewBox=\"0 0 24 24\"\n",
              "       width=\"24px\">\n",
              "    <path d=\"M0 0h24v24H0V0z\" fill=\"none\"/>\n",
              "    <path d=\"M18.56 5.44l.94 2.06.94-2.06 2.06-.94-2.06-.94-.94-2.06-.94 2.06-2.06.94zm-11 1L8.5 8.5l.94-2.06 2.06-.94-2.06-.94L8.5 2.5l-.94 2.06-2.06.94zm10 10l.94 2.06.94-2.06 2.06-.94-2.06-.94-.94-2.06-.94 2.06-2.06.94z\"/><path d=\"M17.41 7.96l-1.37-1.37c-.4-.4-.92-.59-1.43-.59-.52 0-1.04.2-1.43.59L10.3 9.45l-7.72 7.72c-.78.78-.78 2.05 0 2.83L4 21.41c.39.39.9.59 1.41.59.51 0 1.02-.2 1.41-.59l7.78-7.78 2.81-2.81c.8-.78.8-2.07 0-2.86zM5.41 20L4 18.59l7.72-7.72 1.47 1.35L5.41 20z\"/>\n",
              "  </svg>\n",
              "      </button>\n",
              "      \n",
              "  <style>\n",
              "    .colab-df-container {\n",
              "      display:flex;\n",
              "      flex-wrap:wrap;\n",
              "      gap: 12px;\n",
              "    }\n",
              "\n",
              "    .colab-df-convert {\n",
              "      background-color: #E8F0FE;\n",
              "      border: none;\n",
              "      border-radius: 50%;\n",
              "      cursor: pointer;\n",
              "      display: none;\n",
              "      fill: #1967D2;\n",
              "      height: 32px;\n",
              "      padding: 0 0 0 0;\n",
              "      width: 32px;\n",
              "    }\n",
              "\n",
              "    .colab-df-convert:hover {\n",
              "      background-color: #E2EBFA;\n",
              "      box-shadow: 0px 1px 2px rgba(60, 64, 67, 0.3), 0px 1px 3px 1px rgba(60, 64, 67, 0.15);\n",
              "      fill: #174EA6;\n",
              "    }\n",
              "\n",
              "    [theme=dark] .colab-df-convert {\n",
              "      background-color: #3B4455;\n",
              "      fill: #D2E3FC;\n",
              "    }\n",
              "\n",
              "    [theme=dark] .colab-df-convert:hover {\n",
              "      background-color: #434B5C;\n",
              "      box-shadow: 0px 1px 3px 1px rgba(0, 0, 0, 0.15);\n",
              "      filter: drop-shadow(0px 1px 2px rgba(0, 0, 0, 0.3));\n",
              "      fill: #FFFFFF;\n",
              "    }\n",
              "  </style>\n",
              "\n",
              "      <script>\n",
              "        const buttonEl =\n",
              "          document.querySelector('#df-51951842-47b6-4865-b1be-6658b1a872c7 button.colab-df-convert');\n",
              "        buttonEl.style.display =\n",
              "          google.colab.kernel.accessAllowed ? 'block' : 'none';\n",
              "\n",
              "        async function convertToInteractive(key) {\n",
              "          const element = document.querySelector('#df-51951842-47b6-4865-b1be-6658b1a872c7');\n",
              "          const dataTable =\n",
              "            await google.colab.kernel.invokeFunction('convertToInteractive',\n",
              "                                                     [key], {});\n",
              "          if (!dataTable) return;\n",
              "\n",
              "          const docLinkHtml = 'Like what you see? Visit the ' +\n",
              "            '<a target=\"_blank\" href=https://colab.research.google.com/notebooks/data_table.ipynb>data table notebook</a>'\n",
              "            + ' to learn more about interactive tables.';\n",
              "          element.innerHTML = '';\n",
              "          dataTable['output_type'] = 'display_data';\n",
              "          await google.colab.output.renderOutput(dataTable, element);\n",
              "          const docLink = document.createElement('div');\n",
              "          docLink.innerHTML = docLinkHtml;\n",
              "          element.appendChild(docLink);\n",
              "        }\n",
              "      </script>\n",
              "    </div>\n",
              "  </div>\n",
              "  "
            ]
          },
          "metadata": {},
          "execution_count": 9
        }
      ]
    },
    {
      "cell_type": "code",
      "source": [
        "print(f'There are {fullDataset.isnull().any().sum()} columns in the dataset with missing values.')"
      ],
      "metadata": {
        "colab": {
          "base_uri": "https://localhost:8080/"
        },
        "id": "iofvLaCJ6dqW",
        "outputId": "5be6ca4b-b4ce-4e74-e103-2227bd10d018"
      },
      "execution_count": null,
      "outputs": [
        {
          "output_type": "stream",
          "name": "stdout",
          "text": [
            "There are 0 columns in the dataset with missing values.\n"
          ]
        }
      ]
    },
    {
      "cell_type": "code",
      "source": [
        "# data to be plotted\n",
        "mu = fullDataset[\"waitingPeople\"].mean()  # mean of distribution\n",
        "sigma = fullDataset[\"waitingPeople\"].std()  # standard deviation of distribution\n",
        "x = fullDataset[\"waitingPeople\"]\n",
        "\n",
        "num_bins = 100\n",
        "\n",
        "fig, ax = plt.subplots()\n",
        "\n",
        "# the histogram of the data\n",
        "n, bins, patches = ax.hist(x, num_bins, density=1)\n",
        "\n",
        "ax.set_xlabel('Number of people waiting when joining the queue')\n",
        "ax.set_ylabel('Probability density')\n",
        "\n"
      ],
      "metadata": {
        "colab": {
          "base_uri": "https://localhost:8080/",
          "height": 235
        },
        "id": "1Z_9Ja1u6hHg",
        "outputId": "bb61521e-770f-437b-b708-40ec596d6107"
      },
      "execution_count": null,
      "outputs": [
        {
          "output_type": "error",
          "ename": "NameError",
          "evalue": "ignored",
          "traceback": [
            "\u001b[0;31m---------------------------------------------------------------------------\u001b[0m",
            "\u001b[0;31mNameError\u001b[0m                                 Traceback (most recent call last)",
            "\u001b[0;32m<ipython-input-1-0be6250ea877>\u001b[0m in \u001b[0;36m<module>\u001b[0;34m()\u001b[0m\n\u001b[1;32m      1\u001b[0m \u001b[0;31m# data to be plotted\u001b[0m\u001b[0;34m\u001b[0m\u001b[0;34m\u001b[0m\u001b[0;34m\u001b[0m\u001b[0m\n\u001b[0;32m----> 2\u001b[0;31m \u001b[0mmu\u001b[0m \u001b[0;34m=\u001b[0m \u001b[0mfullDataset\u001b[0m\u001b[0;34m[\u001b[0m\u001b[0;34m\"waitingPeople\"\u001b[0m\u001b[0;34m]\u001b[0m\u001b[0;34m.\u001b[0m\u001b[0mmean\u001b[0m\u001b[0;34m(\u001b[0m\u001b[0;34m)\u001b[0m  \u001b[0;31m# mean of distribution\u001b[0m\u001b[0;34m\u001b[0m\u001b[0;34m\u001b[0m\u001b[0m\n\u001b[0m\u001b[1;32m      3\u001b[0m \u001b[0msigma\u001b[0m \u001b[0;34m=\u001b[0m \u001b[0mfullDataset\u001b[0m\u001b[0;34m[\u001b[0m\u001b[0;34m\"waitingPeople\"\u001b[0m\u001b[0;34m]\u001b[0m\u001b[0;34m.\u001b[0m\u001b[0mstd\u001b[0m\u001b[0;34m(\u001b[0m\u001b[0;34m)\u001b[0m  \u001b[0;31m# standard deviation of distribution\u001b[0m\u001b[0;34m\u001b[0m\u001b[0;34m\u001b[0m\u001b[0m\n\u001b[1;32m      4\u001b[0m \u001b[0mx\u001b[0m \u001b[0;34m=\u001b[0m \u001b[0mfullDataset\u001b[0m\u001b[0;34m[\u001b[0m\u001b[0;34m\"waitingPeople\"\u001b[0m\u001b[0;34m]\u001b[0m\u001b[0;34m\u001b[0m\u001b[0;34m\u001b[0m\u001b[0m\n\u001b[1;32m      5\u001b[0m \u001b[0;34m\u001b[0m\u001b[0m\n",
            "\u001b[0;31mNameError\u001b[0m: name 'fullDataset' is not defined"
          ]
        }
      ]
    },
    {
      "cell_type": "code",
      "source": [
        "# data to be plotted\n",
        "mu = fullDataset[\"waitingTime\"].mean()  # mean of distribution\n",
        "sigma = fullDataset[\"waitingTime\"].std()  # standard deviation of distribution\n",
        "x = fullDataset[\"waitingTime\"]\n",
        "\n",
        "num_bins = 33\n",
        "\n",
        "fig, ax = plt.subplots()\n",
        "\n",
        "# the histogram of the data\n",
        "n, bins, patches = ax.hist(x, num_bins, density=1)\n",
        "\n",
        "# add a 'best fit' line\n",
        "#y = ((1 / (np.sqrt(2 * np.pi) * sigma)) *\n",
        " #    np.exp(-0.5 * (1 / sigma * (bins - mu))**2))\n",
        "#ax.plot(bins, y, '--')\n",
        "ax.set_xlabel('Customer waiting time (mins)')\n",
        "ax.set_ylabel('Probability density')\n"
      ],
      "metadata": {
        "colab": {
          "base_uri": "https://localhost:8080/",
          "height": 296
        },
        "id": "08V2wdBR6lIG",
        "outputId": "6bb8a579-e3b2-4897-9152-f2adae9c6a62"
      },
      "execution_count": null,
      "outputs": [
        {
          "output_type": "execute_result",
          "data": {
            "text/plain": [
              "Text(0, 0.5, 'Probability density')"
            ]
          },
          "metadata": {},
          "execution_count": 12
        },
        {
          "output_type": "display_data",
          "data": {
            "text/plain": [
              "<Figure size 432x288 with 1 Axes>"
            ],
            "image/png": "[encoded data removed]"
          },
          "metadata": {
            "needs_background": "light"
          }
        }
      ]
    },
    {
      "cell_type": "code",
      "source": [
        "workingCopyDataset = fullDataset\n",
        "workingCopyDataset.drop(['serviceTime'], axis=1);"
      ],
      "metadata": {
        "id": "xnvDugfz7is-"
      },
      "execution_count": null,
      "outputs": []
    },
    {
      "cell_type": "code",
      "source": [
        "# mean encoding for regression output\n",
        "def mean_encoder_regression(input_vector, output_vector):\n",
        "    assert len(input_vector) == len(output_vector)\n",
        "    numberOfRows = len(input_vector)\n",
        "\n",
        "    temp = pd.concat([input_vector, output_vector], axis=1)\n",
        "    # Compute target mean\n",
        "    averages = temp.groupby(by=input_vector.name)[output_vector.name].agg([\"mean\", \"count\"])\n",
        "\n",
        "    print(averages)\n",
        "    return_vector = pd.DataFrame(0, index=np.arange(numberOfRows), columns={'feature'})\n",
        "\n",
        "\n",
        "    for i in range(numberOfRows):\n",
        "        return_vector.iloc[i] = averages['mean'][input_vector.iloc[i]]\n",
        "\n",
        "    return return_vector"
      ],
      "metadata": {
        "id": "KChNEOV3pR3i"
      },
      "execution_count": null,
      "outputs": []
    },
    {
      "cell_type": "code",
      "source": [
        "encoded_input_vector_hour = mean_encoder_regression(workingCopyDataset['hour'], workingCopyDataset['waitingTime'])\n",
        "encoded_input_vector_hour.columns = ['hour']\n",
        "encoded_input_vector_minutes = mean_encoder_regression(workingCopyDataset['minutes'], workingCopyDataset['waitingTime'])\n",
        "encoded_input_vector_minutes.columns = ['minutes']\n",
        "encoded_input_vector_dayOfWeek = mean_encoder_regression(workingCopyDataset['dayOfWeek'], workingCopyDataset['waitingTime'])\n",
        "encoded_input_vector_dayOfWeek.columns = ['dayOfWeek']"
      ],
      "metadata": {
        "colab": {
          "base_uri": "https://localhost:8080/"
        },
        "id": "9rJOcxnApUHc",
        "outputId": "2a9fa9f9-5378-47a0-fb40-8174e87b60d6"
      },
      "execution_count": null,
      "outputs": [
        {
          "output_type": "stream",
          "name": "stdout",
          "text": [
            "           mean  count\n",
            "hour                  \n",
            "8     11.823287   3882\n",
            "9     12.167036   3161\n",
            "10    11.768293   2214\n",
            "11    12.412796   2110\n",
            "12    11.884278   2169\n",
            "13    11.995631   2060\n",
            "14    13.261050   2172\n",
            "              mean  count\n",
            "minutes                  \n",
            "0        11.837912    364\n",
            "1        11.995025    402\n",
            "2        12.137931    319\n",
            "3        11.804878    328\n",
            "4        12.646840    269\n",
            "5        11.797267    439\n",
            "6        11.833992    253\n",
            "7        12.376344    372\n",
            "8        11.918605    258\n",
            "9        11.981752    274\n",
            "10       12.295597    318\n",
            "11       12.309133    427\n",
            "12       12.378151    238\n",
            "13       12.190476    273\n",
            "14       13.027237    257\n",
            "15       12.319783    369\n",
            "16       12.731278    227\n",
            "17       12.780000    350\n",
            "18       12.400697    287\n",
            "19       12.331765    425\n",
            "20       12.312668    371\n",
            "21       12.474820    278\n",
            "22       13.230435    230\n",
            "23       11.920844    379\n",
            "24       13.073394    218\n",
            "25       11.789604    404\n",
            "26       12.539877    326\n",
            "27       12.432692    312\n",
            "28       13.433962    212\n",
            "29       13.136076    316\n",
            "30       12.165563    302\n",
            "31       11.373239    284\n",
            "32       11.991837    245\n",
            "33       12.572368    304\n",
            "34       12.032558    215\n",
            "35       11.890558    466\n",
            "36       11.817164    268\n",
            "37       11.403226    310\n",
            "38       11.977186    263\n",
            "39       11.679715    281\n",
            "40       12.521898    274\n",
            "41       13.080997    321\n",
            "42       12.857143    203\n",
            "43       12.006557    305\n",
            "44       11.882096    229\n",
            "45       12.454839    310\n",
            "46       12.033520    179\n",
            "47       11.883523    352\n",
            "48       11.655462    238\n",
            "49       11.384000    250\n",
            "50       12.069182    318\n",
            "51       12.060317    315\n",
            "52       11.787440    207\n",
            "53       11.208178    269\n",
            "54       11.511628    215\n",
            "55       11.882507    383\n",
            "56       11.946970    264\n",
            "57       11.426160    237\n",
            "58       12.037037    189\n",
            "59       11.509025    277\n",
            "                mean  count\n",
            "dayOfWeek                  \n",
            "0          11.927170   3721\n",
            "1          11.339958   3371\n",
            "2          11.176146   3622\n",
            "3          12.533033   3769\n",
            "4          13.872146   3285\n"
          ]
        }
      ]
    },
    {
      "cell_type": "code",
      "source": [
        "X = pd.concat([encoded_input_vector_hour['hour'], encoded_input_vector_minutes['minutes'], pd.DataFrame(workingCopyDataset['waitingPeople']), encoded_input_vector_dayOfWeek['dayOfWeek']], axis=1)\n",
        "y = workingCopyDataset['waitingTime']"
      ],
      "metadata": {
        "id": "d-ATqteppXA1"
      },
      "execution_count": null,
      "outputs": []
    },
    {
      "cell_type": "code",
      "source": [
        "X.describe()"
      ],
      "metadata": {
        "colab": {
          "base_uri": "https://localhost:8080/",
          "height": 300
        },
        "id": "BK7jkbR7pa2I",
        "outputId": "6bcb20d1-5fc2-44d4-eaca-5aa0c10981b1"
      },
      "execution_count": null,
      "outputs": [
        {
          "output_type": "execute_result",
          "data": {
            "text/plain": [
              "               hour       minutes  waitingPeople     dayOfWeek\n",
              "count  17768.000000  17768.000000   17768.000000  17768.000000\n",
              "mean      12.150777     12.150777      27.903534     12.150777\n",
              "std        0.460459      0.470414      18.112853      0.952740\n",
              "min       11.768293     11.208178       0.000000     11.176146\n",
              "25%       11.823287     11.837912      16.000000     11.339958\n",
              "50%       11.995631     12.037037      23.000000     11.927170\n",
              "75%       12.167036     12.400697      37.000000     12.533033\n",
              "max       13.261050     13.433962     163.000000     13.872146"
            ],
            "text/html": [
              "\n",
              "  <div id=\"df-9ec1f96b-de11-47fd-a13c-c46f3c0ff449\">\n",
              "    <div class=\"colab-df-container\">\n",
              "      <div>\n",
              "<style scoped>\n",
              "    .dataframe tbody tr th:only-of-type {\n",
              "        vertical-align: middle;\n",
              "    }\n",
              "\n",
              "    .dataframe tbody tr th {\n",
              "        vertical-align: top;\n",
              "    }\n",
              "\n",
              "    .dataframe thead th {\n",
              "        text-align: right;\n",
              "    }\n",
              "</style>\n",
              "<table border=\"1\" class=\"dataframe\">\n",
              "  <thead>\n",
              "    <tr style=\"text-align: right;\">\n",
              "      <th></th>\n",
              "      <th>hour</th>\n",
              "      <th>minutes</th>\n",
              "      <th>waitingPeople</th>\n",
              "      <th>dayOfWeek</th>\n",
              "    </tr>\n",
              "  </thead>\n",
              "  <tbody>\n",
              "    <tr>\n",
              "      <th>count</th>\n",
              "      <td>17768.000000</td>\n",
              "      <td>17768.000000</td>\n",
              "      <td>17768.000000</td>\n",
              "      <td>17768.000000</td>\n",
              "    </tr>\n",
              "    <tr>\n",
              "      <th>mean</th>\n",
              "      <td>12.150777</td>\n",
              "      <td>12.150777</td>\n",
              "      <td>27.903534</td>\n",
              "      <td>12.150777</td>\n",
              "    </tr>\n",
              "    <tr>\n",
              "      <th>std</th>\n",
              "      <td>0.460459</td>\n",
              "      <td>0.470414</td>\n",
              "      <td>18.112853</td>\n",
              "      <td>0.952740</td>\n",
              "    </tr>\n",
              "    <tr>\n",
              "      <th>min</th>\n",
              "      <td>11.768293</td>\n",
              "      <td>11.208178</td>\n",
              "      <td>0.000000</td>\n",
              "      <td>11.176146</td>\n",
              "    </tr>\n",
              "    <tr>\n",
              "      <th>25%</th>\n",
              "      <td>11.823287</td>\n",
              "      <td>11.837912</td>\n",
              "      <td>16.000000</td>\n",
              "      <td>11.339958</td>\n",
              "    </tr>\n",
              "    <tr>\n",
              "      <th>50%</th>\n",
              "      <td>11.995631</td>\n",
              "      <td>12.037037</td>\n",
              "      <td>23.000000</td>\n",
              "      <td>11.927170</td>\n",
              "    </tr>\n",
              "    <tr>\n",
              "      <th>75%</th>\n",
              "      <td>12.167036</td>\n",
              "      <td>12.400697</td>\n",
              "      <td>37.000000</td>\n",
              "      <td>12.533033</td>\n",
              "    </tr>\n",
              "    <tr>\n",
              "      <th>max</th>\n",
              "      <td>13.261050</td>\n",
              "      <td>13.433962</td>\n",
              "      <td>163.000000</td>\n",
              "      <td>13.872146</td>\n",
              "    </tr>\n",
              "  </tbody>\n",
              "</table>\n",
              "</div>\n",
              "      <button class=\"colab-df-convert\" onclick=\"convertToInteractive('df-9ec1f96b-de11-47fd-a13c-c46f3c0ff449')\"\n",
              "              title=\"Convert this dataframe to an interactive table.\"\n",
              "              style=\"display:none;\">\n",
              "        \n",
              "  <svg xmlns=\"http://www.w3.org/2000/svg\" height=\"24px\"viewBox=\"0 0 24 24\"\n",
              "       width=\"24px\">\n",
              "    <path d=\"M0 0h24v24H0V0z\" fill=\"none\"/>\n",
              "    <path d=\"M18.56 5.44l.94 2.06.94-2.06 2.06-.94-2.06-.94-.94-2.06-.94 2.06-2.06.94zm-11 1L8.5 8.5l.94-2.06 2.06-.94-2.06-.94L8.5 2.5l-.94 2.06-2.06.94zm10 10l.94 2.06.94-2.06 2.06-.94-2.06-.94-.94-2.06-.94 2.06-2.06.94z\"/><path d=\"M17.41 7.96l-1.37-1.37c-.4-.4-.92-.59-1.43-.59-.52 0-1.04.2-1.43.59L10.3 9.45l-7.72 7.72c-.78.78-.78 2.05 0 2.83L4 21.41c.39.39.9.59 1.41.59.51 0 1.02-.2 1.41-.59l7.78-7.78 2.81-2.81c.8-.78.8-2.07 0-2.86zM5.41 20L4 18.59l7.72-7.72 1.47 1.35L5.41 20z\"/>\n",
              "  </svg>\n",
              "      </button>\n",
              "      \n",
              "  <style>\n",
              "    .colab-df-container {\n",
              "      display:flex;\n",
              "      flex-wrap:wrap;\n",
              "      gap: 12px;\n",
              "    }\n",
              "\n",
              "    .colab-df-convert {\n",
              "      background-color: #E8F0FE;\n",
              "      border: none;\n",
              "      border-radius: 50%;\n",
              "      cursor: pointer;\n",
              "      display: none;\n",
              "      fill: #1967D2;\n",
              "      height: 32px;\n",
              "      padding: 0 0 0 0;\n",
              "      width: 32px;\n",
              "    }\n",
              "\n",
              "    .colab-df-convert:hover {\n",
              "      background-color: #E2EBFA;\n",
              "      box-shadow: 0px 1px 2px rgba(60, 64, 67, 0.3), 0px 1px 3px 1px rgba(60, 64, 67, 0.15);\n",
              "      fill: #174EA6;\n",
              "    }\n",
              "\n",
              "    [theme=dark] .colab-df-convert {\n",
              "      background-color: #3B4455;\n",
              "      fill: #D2E3FC;\n",
              "    }\n",
              "\n",
              "    [theme=dark] .colab-df-convert:hover {\n",
              "      background-color: #434B5C;\n",
              "      box-shadow: 0px 1px 3px 1px rgba(0, 0, 0, 0.15);\n",
              "      filter: drop-shadow(0px 1px 2px rgba(0, 0, 0, 0.3));\n",
              "      fill: #FFFFFF;\n",
              "    }\n",
              "  </style>\n",
              "\n",
              "      <script>\n",
              "        const buttonEl =\n",
              "          document.querySelector('#df-9ec1f96b-de11-47fd-a13c-c46f3c0ff449 button.colab-df-convert');\n",
              "        buttonEl.style.display =\n",
              "          google.colab.kernel.accessAllowed ? 'block' : 'none';\n",
              "\n",
              "        async function convertToInteractive(key) {\n",
              "          const element = document.querySelector('#df-9ec1f96b-de11-47fd-a13c-c46f3c0ff449');\n",
              "          const dataTable =\n",
              "            await google.colab.kernel.invokeFunction('convertToInteractive',\n",
              "                                                     [key], {});\n",
              "          if (!dataTable) return;\n",
              "\n",
              "          const docLinkHtml = 'Like what you see? Visit the ' +\n",
              "            '<a target=\"_blank\" href=https://colab.research.google.com/notebooks/data_table.ipynb>data table notebook</a>'\n",
              "            + ' to learn more about interactive tables.';\n",
              "          element.innerHTML = '';\n",
              "          dataTable['output_type'] = 'display_data';\n",
              "          await google.colab.output.renderOutput(dataTable, element);\n",
              "          const docLink = document.createElement('div');\n",
              "          docLink.innerHTML = docLinkHtml;\n",
              "          element.appendChild(docLink);\n",
              "        }\n",
              "      </script>\n",
              "    </div>\n",
              "  </div>\n",
              "  "
            ]
          },
          "metadata": {},
          "execution_count": 17
        }
      ]
    },
    {
      "cell_type": "code",
      "source": [
        "trainX, testX, trainy, testy = train_test_split(X, y, test_size=0.15, random_state=42)\n",
        "print(trainX.shape, trainy.shape)\n",
        "print(testX.shape, testy.shape)"
      ],
      "metadata": {
        "colab": {
          "base_uri": "https://localhost:8080/"
        },
        "id": "17-3zoDRpc78",
        "outputId": "019f4a08-e369-48d9-aac9-953143976d23"
      },
      "execution_count": null,
      "outputs": [
        {
          "output_type": "stream",
          "name": "stdout",
          "text": [
            "(15102, 4) (15102,)\n",
            "(2666, 4) (2666,)\n"
          ]
        }
      ]
    },
    {
      "cell_type": "code",
      "source": [
        "def scale_input(X, means, stds):\n",
        "    return (X - means) / stds\n",
        "\n",
        "def descale_input(X, means, stds):\n",
        "    return (X * stds) + means"
      ],
      "metadata": {
        "id": "SuyD49N0pf-_"
      },
      "execution_count": null,
      "outputs": []
    },
    {
      "cell_type": "code",
      "source": [
        "meansX = trainX.mean(axis=0)\n",
        "stdsX = trainX.std(axis=0) + 1e-10"
      ],
      "metadata": {
        "id": "SW0wM9bypiTy"
      },
      "execution_count": null,
      "outputs": []
    },
    {
      "cell_type": "markdown",
      "source": [],
      "metadata": {
        "id": "H6zNpXCApymP"
      }
    },
    {
      "cell_type": "code",
      "source": [
        "trainX_scaled = scale_input(trainX, meansX, stdsX)\n",
        "testX_scaled = scale_input(testX, meansX, stdsX)"
      ],
      "metadata": {
        "id": "MmnYfcEIpk08"
      },
      "execution_count": null,
      "outputs": []
    },
    {
      "cell_type": "code",
      "source": [
        "from sklearn.neural_network import MLPClassifier, MLPRegressor"
      ],
      "metadata": {
        "id": "uW7igqMCtJ1f"
      },
      "execution_count": null,
      "outputs": []
    },
    {
      "cell_type": "code",
      "source": [
        "NN = MLPRegressor(max_iter=500, activation = \"relu\", hidden_layer_sizes=(100,100))"
      ],
      "metadata": {
        "id": "pGgxf9b4qntZ"
      },
      "execution_count": null,
      "outputs": []
    },
    {
      "cell_type": "code",
      "source": [
        "NN.fit(trainX,trainy)\n",
        "\n",
        "NN_pred = NN.predict(testX)\n",
        "\n",
        "print(\"MAE    \", mean_absolute_error(testy,NN_pred))\n"
      ],
      "metadata": {
        "id": "dDb52Gs_tl0Y",
        "colab": {
          "base_uri": "https://localhost:8080/"
        },
        "outputId": "fac03a2f-913b-49e9-b3c8-a75ee650f2e7"
      },
      "execution_count": null,
      "outputs": [
        {
          "output_type": "stream",
          "name": "stdout",
          "text": [
            "MAE     3.51939840265263\n"
          ]
        }
      ]
    },
    {
      "cell_type": "code",
      "source": [
        "testy_pred = NN.predict(testX)\n",
        "myLength = len(testy_pred)\n",
        "plt.plot(range(myLength), testy)\n",
        "plt.plot(range(myLength), testy_pred)\n",
        "plt.ylabel('Customer waiting time (mins)')\n",
        "plt.xlabel('Client')\n",
        "plt.legend(['Real', 'Predicted'], loc='upper left')"
      ],
      "metadata": {
        "colab": {
          "base_uri": "https://localhost:8080/",
          "height": 296
        },
        "id": "q2ibBz_buD3y",
        "outputId": "6814ed41-4b0a-41bd-dbc8-bf3480bc85da"
      },
      "execution_count": null,
      "outputs": [
        {
          "output_type": "execute_result",
          "data": {
            "text/plain": [
              "<matplotlib.legend.Legend at 0x7fafb1289490>"
            ]
          },
          "metadata": {},
          "execution_count": 25
        },
        {
          "output_type": "display_data",
          "data": {
            "text/plain": [
              "<Figure size 432x288 with 1 Axes>"
            ],
            "image/png": "[encoded data removed]"
          },
          "metadata": {
            "needs_background": "light"
          }
        }
      ]
    },
    {
      "cell_type": "code",
      "source": [
        "myMae = mean_absolute_error(testy, testy_pred)\n",
        "print(f'The mean absolute error I get with the neural network is {myMae} minutes.')"
      ],
      "metadata": {
        "colab": {
          "base_uri": "https://localhost:8080/"
        },
        "id": "3RT2sqarvrOA",
        "outputId": "8ecbfd52-60c2-4bb4-9e12-4efea233941f"
      },
      "execution_count": null,
      "outputs": [
        {
          "output_type": "stream",
          "name": "stdout",
          "text": [
            "The mean absolute error I get with the neural network is 3.51939840265263 minutes.\n"
          ]
        }
      ]
    },
    {
      "cell_type": "code",
      "source": [],
      "metadata": {
        "id": "pRiylCWrvrxE"
      },
      "execution_count": null,
      "outputs": []
    }
  ]
}